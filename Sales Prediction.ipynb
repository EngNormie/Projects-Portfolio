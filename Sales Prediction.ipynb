{
 "cells": [
  {
   "cell_type": "markdown",
   "id": "f310eef7",
   "metadata": {},
   "source": [
    "## ML Steps\n",
    "1. Define Business Case/problem statement\n",
    "2. Import basic libraries --> numpy, pandas, seaborn, warnings\n",
    "3. Load data\n",
    "4. Domain Analysis\n",
    "5. Basic checks --> shape, tail, info, dtype, describe, unique, value count\n",
    "6. Exploratory Data Analysis (EDA)\n",
    "* Univariate analysis --> histogram, count, boxplot\n",
    "* Bivariate --> scatter, lines, box, barplot\n",
    "* Multivariate --> pairplotS"
   ]
  },
  {
   "cell_type": "markdown",
   "id": "9d686a92",
   "metadata": {},
   "source": [
    "## 1. Problem statement\n",
    "Use relevant machine learning steps to predict total sales using features like money spent on Advertising/Marketing individual fields. The analysis is based on [Advertising Dataset](https://github.com/EngNormie/Datasets/blob/main/Advertising.csv). You can also download the dataset from [Kaggle](https://www.kaggle.com/datasets/technormie/advertising-and-sales) "
   ]
  },
  {
   "cell_type": "markdown",
   "id": "1171ad9b",
   "metadata": {},
   "source": [
    "## 2. Import basic libraries"
   ]
  },
  {
   "cell_type": "code",
   "execution_count": 6,
   "id": "f18c101a",
   "metadata": {},
   "outputs": [],
   "source": [
    "import numpy as np\n",
    "import pandas as pd\n",
    "import seaborn as sns\n",
    "import warnings\n",
    "warnings.filterwarnings(\"ignore\")"
   ]
  },
  {
   "cell_type": "markdown",
   "id": "c7fcc0cf",
   "metadata": {},
   "source": [
    "## 3. Load dataset"
   ]
  },
  {
   "cell_type": "code",
   "execution_count": 7,
   "id": "6349003c",
   "metadata": {},
   "outputs": [],
   "source": [
    "data = pd.read_csv(\"Advertising.csv\")"
   ]
  },
  {
   "cell_type": "code",
   "execution_count": 8,
   "id": "24c00708",
   "metadata": {},
   "outputs": [
    {
     "data": {
      "text/html": [
       "<div>\n",
       "<style scoped>\n",
       "    .dataframe tbody tr th:only-of-type {\n",
       "        vertical-align: middle;\n",
       "    }\n",
       "\n",
       "    .dataframe tbody tr th {\n",
       "        vertical-align: top;\n",
       "    }\n",
       "\n",
       "    .dataframe thead th {\n",
       "        text-align: right;\n",
       "    }\n",
       "</style>\n",
       "<table border=\"1\" class=\"dataframe\">\n",
       "  <thead>\n",
       "    <tr style=\"text-align: right;\">\n",
       "      <th></th>\n",
       "      <th>Unnamed: 0</th>\n",
       "      <th>TV</th>\n",
       "      <th>Radio</th>\n",
       "      <th>Newspaper</th>\n",
       "      <th>Sales</th>\n",
       "    </tr>\n",
       "  </thead>\n",
       "  <tbody>\n",
       "    <tr>\n",
       "      <th>0</th>\n",
       "      <td>1</td>\n",
       "      <td>230.1</td>\n",
       "      <td>37.8</td>\n",
       "      <td>69.2</td>\n",
       "      <td>22.1</td>\n",
       "    </tr>\n",
       "    <tr>\n",
       "      <th>1</th>\n",
       "      <td>2</td>\n",
       "      <td>44.5</td>\n",
       "      <td>39.3</td>\n",
       "      <td>45.1</td>\n",
       "      <td>10.4</td>\n",
       "    </tr>\n",
       "    <tr>\n",
       "      <th>2</th>\n",
       "      <td>3</td>\n",
       "      <td>17.2</td>\n",
       "      <td>45.9</td>\n",
       "      <td>69.3</td>\n",
       "      <td>9.3</td>\n",
       "    </tr>\n",
       "    <tr>\n",
       "      <th>3</th>\n",
       "      <td>4</td>\n",
       "      <td>151.5</td>\n",
       "      <td>41.3</td>\n",
       "      <td>58.5</td>\n",
       "      <td>18.5</td>\n",
       "    </tr>\n",
       "    <tr>\n",
       "      <th>4</th>\n",
       "      <td>5</td>\n",
       "      <td>180.8</td>\n",
       "      <td>10.8</td>\n",
       "      <td>58.4</td>\n",
       "      <td>12.9</td>\n",
       "    </tr>\n",
       "    <tr>\n",
       "      <th>...</th>\n",
       "      <td>...</td>\n",
       "      <td>...</td>\n",
       "      <td>...</td>\n",
       "      <td>...</td>\n",
       "      <td>...</td>\n",
       "    </tr>\n",
       "    <tr>\n",
       "      <th>195</th>\n",
       "      <td>196</td>\n",
       "      <td>38.2</td>\n",
       "      <td>3.7</td>\n",
       "      <td>13.8</td>\n",
       "      <td>7.6</td>\n",
       "    </tr>\n",
       "    <tr>\n",
       "      <th>196</th>\n",
       "      <td>197</td>\n",
       "      <td>94.2</td>\n",
       "      <td>4.9</td>\n",
       "      <td>8.1</td>\n",
       "      <td>9.7</td>\n",
       "    </tr>\n",
       "    <tr>\n",
       "      <th>197</th>\n",
       "      <td>198</td>\n",
       "      <td>177.0</td>\n",
       "      <td>9.3</td>\n",
       "      <td>6.4</td>\n",
       "      <td>12.8</td>\n",
       "    </tr>\n",
       "    <tr>\n",
       "      <th>198</th>\n",
       "      <td>199</td>\n",
       "      <td>283.6</td>\n",
       "      <td>42.0</td>\n",
       "      <td>66.2</td>\n",
       "      <td>25.5</td>\n",
       "    </tr>\n",
       "    <tr>\n",
       "      <th>199</th>\n",
       "      <td>200</td>\n",
       "      <td>232.1</td>\n",
       "      <td>8.6</td>\n",
       "      <td>8.7</td>\n",
       "      <td>13.4</td>\n",
       "    </tr>\n",
       "  </tbody>\n",
       "</table>\n",
       "<p>200 rows × 5 columns</p>\n",
       "</div>"
      ],
      "text/plain": [
       "     Unnamed: 0     TV  Radio  Newspaper  Sales\n",
       "0             1  230.1   37.8       69.2   22.1\n",
       "1             2   44.5   39.3       45.1   10.4\n",
       "2             3   17.2   45.9       69.3    9.3\n",
       "3             4  151.5   41.3       58.5   18.5\n",
       "4             5  180.8   10.8       58.4   12.9\n",
       "..          ...    ...    ...        ...    ...\n",
       "195         196   38.2    3.7       13.8    7.6\n",
       "196         197   94.2    4.9        8.1    9.7\n",
       "197         198  177.0    9.3        6.4   12.8\n",
       "198         199  283.6   42.0       66.2   25.5\n",
       "199         200  232.1    8.6        8.7   13.4\n",
       "\n",
       "[200 rows x 5 columns]"
      ]
     },
     "execution_count": 8,
     "metadata": {},
     "output_type": "execute_result"
    }
   ],
   "source": [
    "data"
   ]
  },
  {
   "cell_type": "code",
   "execution_count": 9,
   "id": "8953188f",
   "metadata": {},
   "outputs": [],
   "source": [
    "# drop the unnamed column\n",
    "data.drop(\"Unnamed: 0\", axis = 1, inplace = True)"
   ]
  },
  {
   "cell_type": "code",
   "execution_count": 6,
   "id": "2e806bc8",
   "metadata": {},
   "outputs": [
    {
     "data": {
      "text/html": [
       "<div>\n",
       "<style scoped>\n",
       "    .dataframe tbody tr th:only-of-type {\n",
       "        vertical-align: middle;\n",
       "    }\n",
       "\n",
       "    .dataframe tbody tr th {\n",
       "        vertical-align: top;\n",
       "    }\n",
       "\n",
       "    .dataframe thead th {\n",
       "        text-align: right;\n",
       "    }\n",
       "</style>\n",
       "<table border=\"1\" class=\"dataframe\">\n",
       "  <thead>\n",
       "    <tr style=\"text-align: right;\">\n",
       "      <th></th>\n",
       "      <th>TV</th>\n",
       "      <th>Radio</th>\n",
       "      <th>Newspaper</th>\n",
       "      <th>Sales</th>\n",
       "    </tr>\n",
       "  </thead>\n",
       "  <tbody>\n",
       "    <tr>\n",
       "      <th>0</th>\n",
       "      <td>230.1</td>\n",
       "      <td>37.8</td>\n",
       "      <td>69.2</td>\n",
       "      <td>22.1</td>\n",
       "    </tr>\n",
       "    <tr>\n",
       "      <th>1</th>\n",
       "      <td>44.5</td>\n",
       "      <td>39.3</td>\n",
       "      <td>45.1</td>\n",
       "      <td>10.4</td>\n",
       "    </tr>\n",
       "    <tr>\n",
       "      <th>2</th>\n",
       "      <td>17.2</td>\n",
       "      <td>45.9</td>\n",
       "      <td>69.3</td>\n",
       "      <td>9.3</td>\n",
       "    </tr>\n",
       "    <tr>\n",
       "      <th>3</th>\n",
       "      <td>151.5</td>\n",
       "      <td>41.3</td>\n",
       "      <td>58.5</td>\n",
       "      <td>18.5</td>\n",
       "    </tr>\n",
       "    <tr>\n",
       "      <th>4</th>\n",
       "      <td>180.8</td>\n",
       "      <td>10.8</td>\n",
       "      <td>58.4</td>\n",
       "      <td>12.9</td>\n",
       "    </tr>\n",
       "    <tr>\n",
       "      <th>...</th>\n",
       "      <td>...</td>\n",
       "      <td>...</td>\n",
       "      <td>...</td>\n",
       "      <td>...</td>\n",
       "    </tr>\n",
       "    <tr>\n",
       "      <th>195</th>\n",
       "      <td>38.2</td>\n",
       "      <td>3.7</td>\n",
       "      <td>13.8</td>\n",
       "      <td>7.6</td>\n",
       "    </tr>\n",
       "    <tr>\n",
       "      <th>196</th>\n",
       "      <td>94.2</td>\n",
       "      <td>4.9</td>\n",
       "      <td>8.1</td>\n",
       "      <td>9.7</td>\n",
       "    </tr>\n",
       "    <tr>\n",
       "      <th>197</th>\n",
       "      <td>177.0</td>\n",
       "      <td>9.3</td>\n",
       "      <td>6.4</td>\n",
       "      <td>12.8</td>\n",
       "    </tr>\n",
       "    <tr>\n",
       "      <th>198</th>\n",
       "      <td>283.6</td>\n",
       "      <td>42.0</td>\n",
       "      <td>66.2</td>\n",
       "      <td>25.5</td>\n",
       "    </tr>\n",
       "    <tr>\n",
       "      <th>199</th>\n",
       "      <td>232.1</td>\n",
       "      <td>8.6</td>\n",
       "      <td>8.7</td>\n",
       "      <td>13.4</td>\n",
       "    </tr>\n",
       "  </tbody>\n",
       "</table>\n",
       "<p>200 rows × 4 columns</p>\n",
       "</div>"
      ],
      "text/plain": [
       "        TV  Radio  Newspaper  Sales\n",
       "0    230.1   37.8       69.2   22.1\n",
       "1     44.5   39.3       45.1   10.4\n",
       "2     17.2   45.9       69.3    9.3\n",
       "3    151.5   41.3       58.5   18.5\n",
       "4    180.8   10.8       58.4   12.9\n",
       "..     ...    ...        ...    ...\n",
       "195   38.2    3.7       13.8    7.6\n",
       "196   94.2    4.9        8.1    9.7\n",
       "197  177.0    9.3        6.4   12.8\n",
       "198  283.6   42.0       66.2   25.5\n",
       "199  232.1    8.6        8.7   13.4\n",
       "\n",
       "[200 rows x 4 columns]"
      ]
     },
     "execution_count": 6,
     "metadata": {},
     "output_type": "execute_result"
    }
   ],
   "source": [
    "data"
   ]
  },
  {
   "cell_type": "markdown",
   "id": "7c5bd47e",
   "metadata": {},
   "source": [
    "## 4. Domain Analysis\n",
    "Based on the problem:\n",
    "* Sales is target\n",
    "* TV, Radio and Newspaper are input variables\n",
    "* This data basically tells us about the total sales made by the company by investing certain amount on TV, Radio and Newspaper Advertising."
   ]
  },
  {
   "cell_type": "markdown",
   "id": "653f1882",
   "metadata": {},
   "source": [
    "## 5. Basic checks"
   ]
  },
  {
   "cell_type": "code",
   "execution_count": 10,
   "id": "48a2cdc1",
   "metadata": {},
   "outputs": [
    {
     "data": {
      "text/plain": [
       "(200, 4)"
      ]
     },
     "execution_count": 10,
     "metadata": {},
     "output_type": "execute_result"
    }
   ],
   "source": [
    "# shape\n",
    "data.shape"
   ]
  },
  {
   "cell_type": "code",
   "execution_count": 11,
   "id": "b51d5673",
   "metadata": {},
   "outputs": [
    {
     "data": {
      "text/plain": [
       "Index(['TV', 'Radio', 'Newspaper', 'Sales'], dtype='object')"
      ]
     },
     "execution_count": 11,
     "metadata": {},
     "output_type": "execute_result"
    }
   ],
   "source": [
    "# print all columns\n",
    "data.columns"
   ]
  },
  {
   "cell_type": "code",
   "execution_count": 12,
   "id": "4ea372b2",
   "metadata": {},
   "outputs": [
    {
     "data": {
      "text/plain": [
       "TV           float64\n",
       "Radio        float64\n",
       "Newspaper    float64\n",
       "Sales        float64\n",
       "dtype: object"
      ]
     },
     "execution_count": 12,
     "metadata": {},
     "output_type": "execute_result"
    }
   ],
   "source": [
    "# dtypes\n",
    "data.dtypes"
   ]
  },
  {
   "cell_type": "code",
   "execution_count": 13,
   "id": "a91154c8",
   "metadata": {},
   "outputs": [
    {
     "data": {
      "text/html": [
       "<div>\n",
       "<style scoped>\n",
       "    .dataframe tbody tr th:only-of-type {\n",
       "        vertical-align: middle;\n",
       "    }\n",
       "\n",
       "    .dataframe tbody tr th {\n",
       "        vertical-align: top;\n",
       "    }\n",
       "\n",
       "    .dataframe thead th {\n",
       "        text-align: right;\n",
       "    }\n",
       "</style>\n",
       "<table border=\"1\" class=\"dataframe\">\n",
       "  <thead>\n",
       "    <tr style=\"text-align: right;\">\n",
       "      <th></th>\n",
       "      <th>TV</th>\n",
       "      <th>Radio</th>\n",
       "      <th>Newspaper</th>\n",
       "      <th>Sales</th>\n",
       "    </tr>\n",
       "  </thead>\n",
       "  <tbody>\n",
       "    <tr>\n",
       "      <th>0</th>\n",
       "      <td>230.1</td>\n",
       "      <td>37.8</td>\n",
       "      <td>69.2</td>\n",
       "      <td>22.1</td>\n",
       "    </tr>\n",
       "    <tr>\n",
       "      <th>1</th>\n",
       "      <td>44.5</td>\n",
       "      <td>39.3</td>\n",
       "      <td>45.1</td>\n",
       "      <td>10.4</td>\n",
       "    </tr>\n",
       "    <tr>\n",
       "      <th>2</th>\n",
       "      <td>17.2</td>\n",
       "      <td>45.9</td>\n",
       "      <td>69.3</td>\n",
       "      <td>9.3</td>\n",
       "    </tr>\n",
       "    <tr>\n",
       "      <th>3</th>\n",
       "      <td>151.5</td>\n",
       "      <td>41.3</td>\n",
       "      <td>58.5</td>\n",
       "      <td>18.5</td>\n",
       "    </tr>\n",
       "    <tr>\n",
       "      <th>4</th>\n",
       "      <td>180.8</td>\n",
       "      <td>10.8</td>\n",
       "      <td>58.4</td>\n",
       "      <td>12.9</td>\n",
       "    </tr>\n",
       "  </tbody>\n",
       "</table>\n",
       "</div>"
      ],
      "text/plain": [
       "      TV  Radio  Newspaper  Sales\n",
       "0  230.1   37.8       69.2   22.1\n",
       "1   44.5   39.3       45.1   10.4\n",
       "2   17.2   45.9       69.3    9.3\n",
       "3  151.5   41.3       58.5   18.5\n",
       "4  180.8   10.8       58.4   12.9"
      ]
     },
     "execution_count": 13,
     "metadata": {},
     "output_type": "execute_result"
    }
   ],
   "source": [
    "# head\n",
    "data.head()"
   ]
  },
  {
   "cell_type": "code",
   "execution_count": 14,
   "id": "806dd81c",
   "metadata": {},
   "outputs": [
    {
     "data": {
      "text/html": [
       "<div>\n",
       "<style scoped>\n",
       "    .dataframe tbody tr th:only-of-type {\n",
       "        vertical-align: middle;\n",
       "    }\n",
       "\n",
       "    .dataframe tbody tr th {\n",
       "        vertical-align: top;\n",
       "    }\n",
       "\n",
       "    .dataframe thead th {\n",
       "        text-align: right;\n",
       "    }\n",
       "</style>\n",
       "<table border=\"1\" class=\"dataframe\">\n",
       "  <thead>\n",
       "    <tr style=\"text-align: right;\">\n",
       "      <th></th>\n",
       "      <th>TV</th>\n",
       "      <th>Radio</th>\n",
       "      <th>Newspaper</th>\n",
       "      <th>Sales</th>\n",
       "    </tr>\n",
       "  </thead>\n",
       "  <tbody>\n",
       "    <tr>\n",
       "      <th>195</th>\n",
       "      <td>38.2</td>\n",
       "      <td>3.7</td>\n",
       "      <td>13.8</td>\n",
       "      <td>7.6</td>\n",
       "    </tr>\n",
       "    <tr>\n",
       "      <th>196</th>\n",
       "      <td>94.2</td>\n",
       "      <td>4.9</td>\n",
       "      <td>8.1</td>\n",
       "      <td>9.7</td>\n",
       "    </tr>\n",
       "    <tr>\n",
       "      <th>197</th>\n",
       "      <td>177.0</td>\n",
       "      <td>9.3</td>\n",
       "      <td>6.4</td>\n",
       "      <td>12.8</td>\n",
       "    </tr>\n",
       "    <tr>\n",
       "      <th>198</th>\n",
       "      <td>283.6</td>\n",
       "      <td>42.0</td>\n",
       "      <td>66.2</td>\n",
       "      <td>25.5</td>\n",
       "    </tr>\n",
       "    <tr>\n",
       "      <th>199</th>\n",
       "      <td>232.1</td>\n",
       "      <td>8.6</td>\n",
       "      <td>8.7</td>\n",
       "      <td>13.4</td>\n",
       "    </tr>\n",
       "  </tbody>\n",
       "</table>\n",
       "</div>"
      ],
      "text/plain": [
       "        TV  Radio  Newspaper  Sales\n",
       "195   38.2    3.7       13.8    7.6\n",
       "196   94.2    4.9        8.1    9.7\n",
       "197  177.0    9.3        6.4   12.8\n",
       "198  283.6   42.0       66.2   25.5\n",
       "199  232.1    8.6        8.7   13.4"
      ]
     },
     "execution_count": 14,
     "metadata": {},
     "output_type": "execute_result"
    }
   ],
   "source": [
    "# tail\n",
    "data.tail()"
   ]
  },
  {
   "cell_type": "code",
   "execution_count": 15,
   "id": "76a7657f",
   "metadata": {},
   "outputs": [
    {
     "name": "stdout",
     "output_type": "stream",
     "text": [
      "<class 'pandas.core.frame.DataFrame'>\n",
      "RangeIndex: 200 entries, 0 to 199\n",
      "Data columns (total 4 columns):\n",
      " #   Column     Non-Null Count  Dtype  \n",
      "---  ------     --------------  -----  \n",
      " 0   TV         200 non-null    float64\n",
      " 1   Radio      200 non-null    float64\n",
      " 2   Newspaper  200 non-null    float64\n",
      " 3   Sales      200 non-null    float64\n",
      "dtypes: float64(4)\n",
      "memory usage: 6.4 KB\n"
     ]
    }
   ],
   "source": [
    "# info\n",
    "data.info()"
   ]
  },
  {
   "cell_type": "code",
   "execution_count": 16,
   "id": "5181905c",
   "metadata": {},
   "outputs": [
    {
     "data": {
      "text/html": [
       "<div>\n",
       "<style scoped>\n",
       "    .dataframe tbody tr th:only-of-type {\n",
       "        vertical-align: middle;\n",
       "    }\n",
       "\n",
       "    .dataframe tbody tr th {\n",
       "        vertical-align: top;\n",
       "    }\n",
       "\n",
       "    .dataframe thead th {\n",
       "        text-align: right;\n",
       "    }\n",
       "</style>\n",
       "<table border=\"1\" class=\"dataframe\">\n",
       "  <thead>\n",
       "    <tr style=\"text-align: right;\">\n",
       "      <th></th>\n",
       "      <th>TV</th>\n",
       "      <th>Radio</th>\n",
       "      <th>Newspaper</th>\n",
       "      <th>Sales</th>\n",
       "    </tr>\n",
       "  </thead>\n",
       "  <tbody>\n",
       "    <tr>\n",
       "      <th>count</th>\n",
       "      <td>200.000000</td>\n",
       "      <td>200.000000</td>\n",
       "      <td>200.000000</td>\n",
       "      <td>200.000000</td>\n",
       "    </tr>\n",
       "    <tr>\n",
       "      <th>mean</th>\n",
       "      <td>147.042500</td>\n",
       "      <td>23.264000</td>\n",
       "      <td>30.554000</td>\n",
       "      <td>14.022500</td>\n",
       "    </tr>\n",
       "    <tr>\n",
       "      <th>std</th>\n",
       "      <td>85.854236</td>\n",
       "      <td>14.846809</td>\n",
       "      <td>21.778621</td>\n",
       "      <td>5.217457</td>\n",
       "    </tr>\n",
       "    <tr>\n",
       "      <th>min</th>\n",
       "      <td>0.700000</td>\n",
       "      <td>0.000000</td>\n",
       "      <td>0.300000</td>\n",
       "      <td>1.600000</td>\n",
       "    </tr>\n",
       "    <tr>\n",
       "      <th>25%</th>\n",
       "      <td>74.375000</td>\n",
       "      <td>9.975000</td>\n",
       "      <td>12.750000</td>\n",
       "      <td>10.375000</td>\n",
       "    </tr>\n",
       "    <tr>\n",
       "      <th>50%</th>\n",
       "      <td>149.750000</td>\n",
       "      <td>22.900000</td>\n",
       "      <td>25.750000</td>\n",
       "      <td>12.900000</td>\n",
       "    </tr>\n",
       "    <tr>\n",
       "      <th>75%</th>\n",
       "      <td>218.825000</td>\n",
       "      <td>36.525000</td>\n",
       "      <td>45.100000</td>\n",
       "      <td>17.400000</td>\n",
       "    </tr>\n",
       "    <tr>\n",
       "      <th>max</th>\n",
       "      <td>296.400000</td>\n",
       "      <td>49.600000</td>\n",
       "      <td>114.000000</td>\n",
       "      <td>27.000000</td>\n",
       "    </tr>\n",
       "  </tbody>\n",
       "</table>\n",
       "</div>"
      ],
      "text/plain": [
       "               TV       Radio   Newspaper       Sales\n",
       "count  200.000000  200.000000  200.000000  200.000000\n",
       "mean   147.042500   23.264000   30.554000   14.022500\n",
       "std     85.854236   14.846809   21.778621    5.217457\n",
       "min      0.700000    0.000000    0.300000    1.600000\n",
       "25%     74.375000    9.975000   12.750000   10.375000\n",
       "50%    149.750000   22.900000   25.750000   12.900000\n",
       "75%    218.825000   36.525000   45.100000   17.400000\n",
       "max    296.400000   49.600000  114.000000   27.000000"
      ]
     },
     "execution_count": 16,
     "metadata": {},
     "output_type": "execute_result"
    }
   ],
   "source": [
    "# describe --> gives statistical summary\n",
    "data.describe()"
   ]
  },
  {
   "cell_type": "markdown",
   "id": "2b91bc3d",
   "metadata": {},
   "source": [
    "## Insights\n",
    "* Average sales made by the company is $14.02m\n",
    "* Average amount spent on TV is more compared to Radio and Newspaper\n",
    "* Maximum amount spent on TV advertising is more compared to Radio and Newspaper"
   ]
  },
  {
   "cell_type": "code",
   "execution_count": 17,
   "id": "1afe2bcd",
   "metadata": {},
   "outputs": [
    {
     "data": {
      "text/plain": [
       "TV           0\n",
       "Radio        0\n",
       "Newspaper    0\n",
       "Sales        0\n",
       "dtype: int64"
      ]
     },
     "execution_count": 17,
     "metadata": {},
     "output_type": "execute_result"
    }
   ],
   "source": [
    "# check for missing information\n",
    "data.isnull().sum()"
   ]
  },
  {
   "cell_type": "markdown",
   "id": "a3f4cf4b",
   "metadata": {},
   "source": [
    "## 6. Exploratory Data Analysis (EDA)"
   ]
  },
  {
   "cell_type": "markdown",
   "id": "87a5e83e",
   "metadata": {},
   "source": [
    "### Univariate analysis\n",
    "* Analyzing single variable/column/feature\n",
    "* Check the distribution of each column"
   ]
  },
  {
   "cell_type": "code",
   "execution_count": 18,
   "id": "6c37f52f",
   "metadata": {},
   "outputs": [
    {
     "data": {
      "text/plain": [
       "<AxesSubplot:ylabel='Density'>"
      ]
     },
     "execution_count": 18,
     "metadata": {},
     "output_type": "execute_result"
    },
    {
     "data": {
      "image/png": "[encoded data removed]",
      "text/plain": [
       "<Figure size 640x480 with 1 Axes>"
      ]
     },
     "metadata": {},
     "output_type": "display_data"
    }
   ],
   "source": [
    "# Check the distribution of TV\n",
    "sns.distplot(x=data.TV,kde=True) # -->  function still works without 'kde=True'. However a histogram needs it to sisplay curve"
   ]
  },
  {
   "cell_type": "code",
   "execution_count": 19,
   "id": "aa05971f",
   "metadata": {},
   "outputs": [
    {
     "data": {
      "text/plain": [
       "<AxesSubplot:ylabel='Density'>"
      ]
     },
     "execution_count": 19,
     "metadata": {},
     "output_type": "execute_result"
    },
    {
     "data": {
      "image/png": "[encoded data removed]",
      "text/plain": [
       "<Figure size 640x480 with 1 Axes>"
      ]
     },
     "metadata": {},
     "output_type": "display_data"
    }
   ],
   "source": [
    "# Check the distribution of Radio\n",
    "sns.distplot(x=data.Radio,kde=True)"
   ]
  },
  {
   "cell_type": "code",
   "execution_count": 20,
   "id": "b15af3d4",
   "metadata": {},
   "outputs": [
    {
     "data": {
      "text/plain": [
       "<AxesSubplot:ylabel='Density'>"
      ]
     },
     "execution_count": 20,
     "metadata": {},
     "output_type": "execute_result"
    },
    {
     "data": {
      "image/png": "[encoded data removed]",
      "text/plain": [
       "<Figure size 640x480 with 1 Axes>"
      ]
     },
     "metadata": {},
     "output_type": "display_data"
    }
   ],
   "source": [
    "# Check the distribution of Newspaper\n",
    "sns.distplot(x=data.Newspaper,kde=True)"
   ]
  },
  {
   "cell_type": "code",
   "execution_count": 21,
   "id": "f9a7242b",
   "metadata": {},
   "outputs": [
    {
     "data": {
      "text/plain": [
       "<AxesSubplot:ylabel='Density'>"
      ]
     },
     "execution_count": 21,
     "metadata": {},
     "output_type": "execute_result"
    },
    {
     "data": {
      "image/png": "[encoded data removed]",
      "text/plain": [
       "<Figure size 640x480 with 1 Axes>"
      ]
     },
     "metadata": {},
     "output_type": "display_data"
    }
   ],
   "source": [
    "# Check the distribution of Sales\n",
    "sns.distplot(x=data.Sales,kde=True)"
   ]
  },
  {
   "cell_type": "code",
   "execution_count": null,
   "id": "3a34b349",
   "metadata": {},
   "outputs": [],
   "source": [
    "# Insights\n",
    "* Sales is representing normal distribution.\n",
    "* TV, Radio and Newspaper are representing skewness/not normal"
   ]
  },
  {
   "cell_type": "markdown",
   "id": "af761b50",
   "metadata": {},
   "source": [
    "### Bivariate analysis\n",
    "Analyzing multiple variables"
   ]
  },
  {
   "cell_type": "code",
   "execution_count": 27,
   "id": "1e02aa56",
   "metadata": {},
   "outputs": [
    {
     "data": {
      "text/plain": [
       "<AxesSubplot:xlabel='TV', ylabel='Sales'>"
      ]
     },
     "execution_count": 27,
     "metadata": {},
     "output_type": "execute_result"
    },
    {
     "data": {
      "image/png": "[encoded data removed]",
      "text/plain": [
       "<Figure size 640x480 with 1 Axes>"
      ]
     },
     "metadata": {},
     "output_type": "display_data"
    }
   ],
   "source": [
    "# Analyze how TV impacts Sales\n",
    "sns.scatterplot(data=data,x='TV',y='Sales')"
   ]
  },
  {
   "cell_type": "markdown",
   "id": "4b106583",
   "metadata": {},
   "source": [
    "#### Insights\n",
    "* As we increase the amount of money on TV advertising, sales increase\n",
    "* There is high correlation between TV and Sales\n",
    "* The more we invest in TV the higher the sales\n",
    "* There is a positive relationship btwn TV and Sales"
   ]
  },
  {
   "cell_type": "code",
   "execution_count": 25,
   "id": "9bcfa1b5",
   "metadata": {},
   "outputs": [
    {
     "data": {
      "text/plain": [
       "<AxesSubplot:xlabel='Radio', ylabel='Sales'>"
      ]
     },
     "execution_count": 25,
     "metadata": {},
     "output_type": "execute_result"
    },
    {
     "data": {
      "image/png": "[encoded data removed]",
      "text/plain": [
       "<Figure size 640x480 with 1 Axes>"
      ]
     },
     "metadata": {},
     "output_type": "display_data"
    }
   ],
   "source": [
    "# Analyze how amount spent on Radio impact Sales\n",
    "sns.scatterplot(data=data,x='Radio',y='Sales')"
   ]
  },
  {
   "cell_type": "markdown",
   "id": "0f3007b9",
   "metadata": {},
   "source": [
    "#### Insights\n",
    "* There is no much trend or strong relationship btwn Radio and Sales\n",
    "* Investing in Radio advertising will have less impact on Sales\n",
    "* We can see that high investment in Radio advertising sometimes gives low sales and sometimes high sales"
   ]
  },
  {
   "cell_type": "code",
   "execution_count": 28,
   "id": "fd68189a",
   "metadata": {},
   "outputs": [
    {
     "data": {
      "text/plain": [
       "<AxesSubplot:xlabel='Newspaper', ylabel='Sales'>"
      ]
     },
     "execution_count": 28,
     "metadata": {},
     "output_type": "execute_result"
    },
    {
     "data": {
      "image/png": "[encoded data removed]",
      "text/plain": [
       "<Figure size 640x480 with 1 Axes>"
      ]
     },
     "metadata": {},
     "output_type": "display_data"
    }
   ],
   "source": [
    "# Analyze how amount spent on Newspaper impact sales\n",
    "sns.scatterplot(data=data,x='Newspaper',y='Sales')"
   ]
  },
  {
   "cell_type": "markdown",
   "id": "1220dfb7",
   "metadata": {},
   "source": [
    "#### Insights\n",
    "* There is no relationship btwn Newspaper and Sales\n",
    "* Investing more or less on Newspaper advertising will yield very less Sales"
   ]
  },
  {
   "cell_type": "markdown",
   "id": "566152ec",
   "metadata": {},
   "source": [
    "#### Overall insights\n",
    "* TV is the best field for advertising the product so that the company can yield more sales.\n",
    "* Investing in Radio will also yield some good sales but investing in Newspaper is not really a good idea."
   ]
  },
  {
   "cell_type": "markdown",
   "id": "c444ff3a",
   "metadata": {},
   "source": [
    "### Multivariate analysis"
   ]
  },
  {
   "cell_type": "code",
   "execution_count": 29,
   "id": "e208a57a",
   "metadata": {},
   "outputs": [
    {
     "data": {
      "text/plain": [
       "<seaborn.axisgrid.PairGrid at 0x1aa6df570d0>"
      ]
     },
     "execution_count": 29,
     "metadata": {},
     "output_type": "execute_result"
    },
    {
     "data": {
      "image/png": "[encoded data removed]",
      "text/plain": [
       "<Figure size 1000x1000 with 20 Axes>"
      ]
     },
     "metadata": {},
     "output_type": "display_data"
    }
   ],
   "source": [
    "# pairplot\n",
    "sns.pairplot(data)"
   ]
  },
  {
   "cell_type": "code",
   "execution_count": 32,
   "id": "1e552175",
   "metadata": {},
   "outputs": [
    {
     "data": {
      "text/plain": [
       "0.4075714250767127"
      ]
     },
     "execution_count": 32,
     "metadata": {},
     "output_type": "execute_result"
    }
   ],
   "source": [
    "# skewness\n",
    "data.Sales.skew()"
   ]
  },
  {
   "cell_type": "markdown",
   "id": "20008d35",
   "metadata": {},
   "source": [
    "## Data Preprocessing/ Data Cleaning"
   ]
  },
  {
   "cell_type": "markdown",
   "id": "0e8c3920",
   "metadata": {},
   "source": [
    "### check for missing values and handle them\n",
    "* If any missing values, u've to replace them"
   ]
  },
  {
   "cell_type": "code",
   "execution_count": 35,
   "id": "24f52c5e",
   "metadata": {},
   "outputs": [
    {
     "data": {
      "text/plain": [
       "TV           0\n",
       "Radio        0\n",
       "Newspaper    0\n",
       "Sales        0\n",
       "dtype: int64"
      ]
     },
     "execution_count": 35,
     "metadata": {},
     "output_type": "execute_result"
    }
   ],
   "source": [
    "data.isnull().sum()"
   ]
  },
  {
   "cell_type": "markdown",
   "id": "21487d52",
   "metadata": {},
   "source": [
    "### Check for duplicates\n",
    "Repetitive values, if found, replace them"
   ]
  },
  {
   "cell_type": "code",
   "execution_count": 36,
   "id": "14eccc6f",
   "metadata": {},
   "outputs": [
    {
     "data": {
      "text/plain": [
       "0"
      ]
     },
     "execution_count": 36,
     "metadata": {},
     "output_type": "execute_result"
    }
   ],
   "source": [
    "data.duplicated().sum()"
   ]
  },
  {
   "cell_type": "code",
   "execution_count": 38,
   "id": "b917fbc0",
   "metadata": {},
   "outputs": [
    {
     "data": {
      "text/plain": [
       "TV           float64\n",
       "Radio        float64\n",
       "Newspaper    float64\n",
       "Sales        float64\n",
       "dtype: object"
      ]
     },
     "execution_count": 38,
     "metadata": {},
     "output_type": "execute_result"
    }
   ],
   "source": [
    "data.dtypes"
   ]
  },
  {
   "cell_type": "markdown",
   "id": "8808bdc9",
   "metadata": {},
   "source": [
    "### Check for outliers"
   ]
  },
  {
   "cell_type": "code",
   "execution_count": 39,
   "id": "57a5830a",
   "metadata": {},
   "outputs": [
    {
     "data": {
      "text/plain": [
       "<AxesSubplot:xlabel='TV'>"
      ]
     },
     "execution_count": 39,
     "metadata": {},
     "output_type": "execute_result"
    },
    {
     "data": {
      "image/png": "[encoded data removed]",
      "text/plain": [
       "<Figure size 640x480 with 1 Axes>"
      ]
     },
     "metadata": {},
     "output_type": "display_data"
    }
   ],
   "source": [
    "# check outliers in TV\n",
    "sns.boxplot(x=data.TV)"
   ]
  },
  {
   "cell_type": "code",
   "execution_count": 40,
   "id": "f20071a4",
   "metadata": {},
   "outputs": [
    {
     "data": {
      "text/plain": [
       "<AxesSubplot:xlabel='Radio'>"
      ]
     },
     "execution_count": 40,
     "metadata": {},
     "output_type": "execute_result"
    },
    {
     "data": {
      "image/png": "[encoded data removed]",
      "text/plain": [
       "<Figure size 640x480 with 1 Axes>"
      ]
     },
     "metadata": {},
     "output_type": "display_data"
    }
   ],
   "source": [
    "# check outliers in Radio\n",
    "sns.boxplot(x=data.Radio)"
   ]
  },
  {
   "cell_type": "code",
   "execution_count": 41,
   "id": "960e8f7a",
   "metadata": {},
   "outputs": [
    {
     "data": {
      "text/plain": [
       "<AxesSubplot:xlabel='Newspaper'>"
      ]
     },
     "execution_count": 41,
     "metadata": {},
     "output_type": "execute_result"
    },
    {
     "data": {
      "image/png": "[encoded data removed]",
      "text/plain": [
       "<Figure size 640x480 with 1 Axes>"
      ]
     },
     "metadata": {},
     "output_type": "display_data"
    }
   ],
   "source": [
    "# check outliers in Newspaper\n",
    "sns.boxplot(x=data.Newspaper)"
   ]
  },
  {
   "cell_type": "code",
   "execution_count": 42,
   "id": "5dc80ffb",
   "metadata": {},
   "outputs": [
    {
     "data": {
      "text/plain": [
       "<AxesSubplot:xlabel='Sales'>"
      ]
     },
     "execution_count": 42,
     "metadata": {},
     "output_type": "execute_result"
    },
    {
     "data": {
      "image/png": "[encoded data removed]",
      "text/plain": [
       "<Figure size 640x480 with 1 Axes>"
      ]
     },
     "metadata": {},
     "output_type": "display_data"
    }
   ],
   "source": [
    "# check outliers in Sales\n",
    "sns.boxplot(x=data.Sales)"
   ]
  },
  {
   "cell_type": "markdown",
   "id": "94f463e5",
   "metadata": {},
   "source": [
    "* We can see there are outliers in Newspaper column\n",
    "* Outliers in Newspaper are towards the right"
   ]
  },
  {
   "cell_type": "markdown",
   "id": "64fcafc5",
   "metadata": {},
   "source": [
    "### Methods to find outliers\n",
    "* IQR Method: used when data is not normal. Uses Lowwer Limit and Upper Limit\n",
    "\n",
    "IQR = Q3 - Q1\n",
    "\n",
    "Lower Limit = Q1-1.5*IQR\n",
    "\n",
    "Upper Limit = Q3+1.5*IQR\n",
    "\n",
    "The values < LL and values > UL are called outliers\n",
    "\n",
    "\n",
    "* 3-sigma Rule: used when data is normal\n",
    "\n",
    "Lower Limit = mew - 3sigma\n",
    "\n",
    "Upper Limit = mew + 3sigma\n",
    "\n",
    "Value not elements of (mew-3sigma, mew+3sigma)\n",
    "\n",
    "Note:\n",
    "\n",
    "Handle outliers (replace) only if data has less than 5% outliers\n",
    "\n",
    "If outliers above 5% don't do anything coz those outliers have impact on your data"
   ]
  },
  {
   "cell_type": "markdown",
   "id": "54f20586",
   "metadata": {},
   "source": [
    "### Task\n",
    "* Find Q1, Q3 of Newspaper\n",
    "* Find LL, and UL\n",
    "* Write a condition to find values less than LL and greater than UL (filtering data)"
   ]
  },
  {
   "cell_type": "code",
   "execution_count": 6,
   "id": "a0eebe94",
   "metadata": {},
   "outputs": [
    {
     "name": "stdout",
     "output_type": "stream",
     "text": [
      "lower quartile 12.75\n",
      "upper quartile 45.1\n"
     ]
    }
   ],
   "source": [
    "# Find Q1 and Q3\n",
    "Q1=data['Newspaper'].quantile(0.25)\n",
    "print(\"lower quartile\",Q1)\n",
    "Q3=data['Newspaper'].quantile(0.75)\n",
    "print(\"upper quartile\",Q3)"
   ]
  },
  {
   "cell_type": "code",
   "execution_count": 7,
   "id": "db18e6df",
   "metadata": {},
   "outputs": [
    {
     "data": {
      "text/plain": [
       "32.35"
      ]
     },
     "execution_count": 7,
     "metadata": {},
     "output_type": "execute_result"
    }
   ],
   "source": [
    "# Find IQR\n",
    "IQR = Q3 - Q1\n",
    "IQR"
   ]
  },
  {
   "cell_type": "code",
   "execution_count": 8,
   "id": "07e76f7e",
   "metadata": {},
   "outputs": [
    {
     "name": "stdout",
     "output_type": "stream",
     "text": [
      "lower limit is -35.775000000000006\n",
      "upper_limit is 93.625\n"
     ]
    }
   ],
   "source": [
    "# FInd lower limit and upper limit\n",
    "lower_limit = Q1 - 1.5*IQR\n",
    "print(\"lower limit is\", lower_limit)\n",
    "\n",
    "upper_limit = Q3 + 1.5*IQR\n",
    "print(\"upper_limit is\", upper_limit)"
   ]
  },
  {
   "cell_type": "code",
   "execution_count": 9,
   "id": "9aa35169",
   "metadata": {},
   "outputs": [
    {
     "data": {
      "text/html": [
       "<div>\n",
       "<style scoped>\n",
       "    .dataframe tbody tr th:only-of-type {\n",
       "        vertical-align: middle;\n",
       "    }\n",
       "\n",
       "    .dataframe tbody tr th {\n",
       "        vertical-align: top;\n",
       "    }\n",
       "\n",
       "    .dataframe thead th {\n",
       "        text-align: right;\n",
       "    }\n",
       "</style>\n",
       "<table border=\"1\" class=\"dataframe\">\n",
       "  <thead>\n",
       "    <tr style=\"text-align: right;\">\n",
       "      <th></th>\n",
       "      <th>Unnamed: 0</th>\n",
       "      <th>TV</th>\n",
       "      <th>Radio</th>\n",
       "      <th>Newspaper</th>\n",
       "      <th>Sales</th>\n",
       "    </tr>\n",
       "  </thead>\n",
       "  <tbody>\n",
       "    <tr>\n",
       "      <th>16</th>\n",
       "      <td>17</td>\n",
       "      <td>67.8</td>\n",
       "      <td>36.6</td>\n",
       "      <td>114.0</td>\n",
       "      <td>12.5</td>\n",
       "    </tr>\n",
       "    <tr>\n",
       "      <th>101</th>\n",
       "      <td>102</td>\n",
       "      <td>296.4</td>\n",
       "      <td>36.3</td>\n",
       "      <td>100.9</td>\n",
       "      <td>23.8</td>\n",
       "    </tr>\n",
       "  </tbody>\n",
       "</table>\n",
       "</div>"
      ],
      "text/plain": [
       "     Unnamed: 0     TV  Radio  Newspaper  Sales\n",
       "16           17   67.8   36.6      114.0   12.5\n",
       "101         102  296.4   36.3      100.9   23.8"
      ]
     },
     "execution_count": 9,
     "metadata": {},
     "output_type": "execute_result"
    }
   ],
   "source": [
    "# Find values above upper_limit\n",
    "data.loc[data['Newspaper']>upper_limit]"
   ]
  },
  {
   "cell_type": "code",
   "execution_count": 50,
   "id": "249f5e42",
   "metadata": {},
   "outputs": [
    {
     "data": {
      "text/html": [
       "<div>\n",
       "<style scoped>\n",
       "    .dataframe tbody tr th:only-of-type {\n",
       "        vertical-align: middle;\n",
       "    }\n",
       "\n",
       "    .dataframe tbody tr th {\n",
       "        vertical-align: top;\n",
       "    }\n",
       "\n",
       "    .dataframe thead th {\n",
       "        text-align: right;\n",
       "    }\n",
       "</style>\n",
       "<table border=\"1\" class=\"dataframe\">\n",
       "  <thead>\n",
       "    <tr style=\"text-align: right;\">\n",
       "      <th></th>\n",
       "      <th>TV</th>\n",
       "      <th>Radio</th>\n",
       "      <th>Newspaper</th>\n",
       "      <th>Sales</th>\n",
       "    </tr>\n",
       "  </thead>\n",
       "  <tbody>\n",
       "  </tbody>\n",
       "</table>\n",
       "</div>"
      ],
      "text/plain": [
       "Empty DataFrame\n",
       "Columns: [TV, Radio, Newspaper, Sales]\n",
       "Index: []"
      ]
     },
     "execution_count": 50,
     "metadata": {},
     "output_type": "execute_result"
    }
   ],
   "source": [
    "# Find values below lower limit\n",
    "data.loc[data['Newspaper']<lower_limit]"
   ]
  },
  {
   "cell_type": "code",
   "execution_count": 52,
   "id": "bca7cae8",
   "metadata": {},
   "outputs": [
    {
     "data": {
      "text/plain": [
       "0.01"
      ]
     },
     "execution_count": 52,
     "metadata": {},
     "output_type": "execute_result"
    }
   ],
   "source": [
    "# Find % of outliers (records above upper limit and below lower limit)\n",
    "len(data.loc[data['Newspaper']>upper_limit])/len(data) # we've no values below lower limit"
   ]
  },
  {
   "cell_type": "code",
   "execution_count": 53,
   "id": "86f36548",
   "metadata": {},
   "outputs": [],
   "source": [
    "# How to handle outliers\n",
    "# since data is not normal, we'll replace outliers with median\n",
    "data.loc[data['Newspaper']>upper_limit,'Newspaper']=data['Newspaper'].median()"
   ]
  },
  {
   "cell_type": "code",
   "execution_count": 54,
   "id": "864b3428",
   "metadata": {},
   "outputs": [
    {
     "data": {
      "text/plain": [
       "<AxesSubplot:xlabel='Newspaper'>"
      ]
     },
     "execution_count": 54,
     "metadata": {},
     "output_type": "execute_result"
    },
    {
     "data": {
      "image/png": "[encoded data removed]",
      "text/plain": [
       "<Figure size 640x480 with 1 Axes>"
      ]
     },
     "metadata": {},
     "output_type": "display_data"
    }
   ],
   "source": [
    "# Check if there are still any outliers in Newspaper\n",
    "sns.boxplot(x=data.Newspaper)"
   ]
  },
  {
   "cell_type": "code",
   "execution_count": 55,
   "id": "f594258d",
   "metadata": {},
   "outputs": [],
   "source": [
    "# Skipping scaling"
   ]
  },
  {
   "cell_type": "code",
   "execution_count": 56,
   "id": "cb2dcfe0",
   "metadata": {},
   "outputs": [],
   "source": [
    "# Skipping converting categorical data into numerical data"
   ]
  },
  {
   "cell_type": "markdown",
   "id": "2466e088",
   "metadata": {},
   "source": [
    "## Feature Engineering"
   ]
  },
  {
   "cell_type": "markdown",
   "id": "dd7b68cd",
   "metadata": {},
   "source": [
    "#### drop irrelevant columns\n",
    "#### selecting best features\n",
    "#### we find correlation \n",
    "* Drop the columns which has very less correlation with target values\n",
    "* Drop one of the columns if two input variables have high correlation (>=50%, this means the two mean the same info)"
   ]
  },
  {
   "cell_type": "code",
   "execution_count": 58,
   "id": "3c65bea9",
   "metadata": {},
   "outputs": [
    {
     "data": {
      "text/html": [
       "<div>\n",
       "<style scoped>\n",
       "    .dataframe tbody tr th:only-of-type {\n",
       "        vertical-align: middle;\n",
       "    }\n",
       "\n",
       "    .dataframe tbody tr th {\n",
       "        vertical-align: top;\n",
       "    }\n",
       "\n",
       "    .dataframe thead th {\n",
       "        text-align: right;\n",
       "    }\n",
       "</style>\n",
       "<table border=\"1\" class=\"dataframe\">\n",
       "  <thead>\n",
       "    <tr style=\"text-align: right;\">\n",
       "      <th></th>\n",
       "      <th>TV</th>\n",
       "      <th>Radio</th>\n",
       "      <th>Newspaper</th>\n",
       "      <th>Sales</th>\n",
       "    </tr>\n",
       "  </thead>\n",
       "  <tbody>\n",
       "    <tr>\n",
       "      <th>TV</th>\n",
       "      <td>1.000000</td>\n",
       "      <td>0.054809</td>\n",
       "      <td>0.048462</td>\n",
       "      <td>0.782224</td>\n",
       "    </tr>\n",
       "    <tr>\n",
       "      <th>Radio</th>\n",
       "      <td>0.054809</td>\n",
       "      <td>1.000000</td>\n",
       "      <td>0.343141</td>\n",
       "      <td>0.576223</td>\n",
       "    </tr>\n",
       "    <tr>\n",
       "      <th>Newspaper</th>\n",
       "      <td>0.048462</td>\n",
       "      <td>0.343141</td>\n",
       "      <td>1.000000</td>\n",
       "      <td>0.215938</td>\n",
       "    </tr>\n",
       "    <tr>\n",
       "      <th>Sales</th>\n",
       "      <td>0.782224</td>\n",
       "      <td>0.576223</td>\n",
       "      <td>0.215938</td>\n",
       "      <td>1.000000</td>\n",
       "    </tr>\n",
       "  </tbody>\n",
       "</table>\n",
       "</div>"
      ],
      "text/plain": [
       "                 TV     Radio  Newspaper     Sales\n",
       "TV         1.000000  0.054809   0.048462  0.782224\n",
       "Radio      0.054809  1.000000   0.343141  0.576223\n",
       "Newspaper  0.048462  0.343141   1.000000  0.215938\n",
       "Sales      0.782224  0.576223   0.215938  1.000000"
      ]
     },
     "execution_count": 58,
     "metadata": {},
     "output_type": "execute_result"
    }
   ],
   "source": [
    "data.corr() # however, interpreting the table may be hard, hence u can use heatmap"
   ]
  },
  {
   "cell_type": "code",
   "execution_count": 59,
   "id": "d637928e",
   "metadata": {},
   "outputs": [
    {
     "data": {
      "text/plain": [
       "<AxesSubplot:>"
      ]
     },
     "execution_count": 59,
     "metadata": {},
     "output_type": "execute_result"
    },
    {
     "data": {
      "image/png": "[encoded data removed]",
      "text/plain": [
       "<Figure size 640x480 with 2 Axes>"
      ]
     },
     "metadata": {},
     "output_type": "display_data"
    }
   ],
   "source": [
    "sns.heatmap(data.corr(),annot=True)\n",
    "# annot=True is used for labelling the corr values\n",
    "# From the heatmap, Newspaper has very less correlation with sales, since dataset is small we are not dropping Newspaper"
   ]
  },
  {
   "cell_type": "code",
   "execution_count": 60,
   "id": "b3639738",
   "metadata": {},
   "outputs": [
    {
     "data": {
      "text/plain": [
       "<AxesSubplot:>"
      ]
     },
     "execution_count": 60,
     "metadata": {},
     "output_type": "execute_result"
    },
    {
     "data": {
      "image/png": "[encoded data removed]",
      "text/plain": [
       "<Figure size 640x480 with 2 Axes>"
      ]
     },
     "metadata": {},
     "output_type": "display_data"
    }
   ],
   "source": [
    "# Check for multicollinearity --> there should not be any high correlation among input variables\n",
    "sns.heatmap(data.drop('Sales',axis=1).corr(),annot=True) # the heatmap below satisfies multicollinearity"
   ]
  },
  {
   "cell_type": "markdown",
   "id": "54f51e5a",
   "metadata": {},
   "source": [
    "#### Heat map analysis\n",
    "#### Linearity\n",
    "* We include columns which have high correlation with target\n",
    "* we drop columns which have less correlation with target\n",
    "\n",
    "#### Little or no multicollinearity\n",
    "* We include columns which have less correlation among each other\n",
    "* We drop one of the column if two input variables have high correlation"
   ]
  },
  {
   "cell_type": "markdown",
   "id": "ba4594e4",
   "metadata": {},
   "source": [
    "### Split data into x and y"
   ]
  },
  {
   "cell_type": "code",
   "execution_count": 13,
   "id": "a71c0306",
   "metadata": {},
   "outputs": [],
   "source": [
    "x=data.drop(\"Sales\",axis=1)\n",
    "y=data['Sales']"
   ]
  },
  {
   "cell_type": "markdown",
   "id": "523788d1",
   "metadata": {},
   "source": [
    "### Split data for training and testing\n",
    "* Use either 70:30 rule (70% training, 30% testing) or 80:20 rule (80% training, 20% testing)"
   ]
  },
  {
   "cell_type": "markdown",
   "id": "450414da",
   "metadata": {},
   "source": [
    "#### sklearn\n",
    "It is one of the scientific libraries which includes all packages related to Machine Learning, Data Cleaning, and Feature Engineering"
   ]
  },
  {
   "cell_type": "code",
   "execution_count": 14,
   "id": "25887652",
   "metadata": {},
   "outputs": [],
   "source": [
    "from sklearn.model_selection import train_test_split # requires scikit-learn installed --> pip install scikit-learn\n",
    "x_train,x_test,y_train,y_test=train_test_split(x,y,test_size=0.30,random_state=4)"
   ]
  },
  {
   "cell_type": "code",
   "execution_count": 15,
   "id": "5116802f",
   "metadata": {},
   "outputs": [
    {
     "data": {
      "text/plain": [
       "(140, 3)"
      ]
     },
     "execution_count": 15,
     "metadata": {},
     "output_type": "execute_result"
    }
   ],
   "source": [
    "x_train.shape"
   ]
  },
  {
   "cell_type": "code",
   "execution_count": 23,
   "id": "b5bc3903",
   "metadata": {},
   "outputs": [
    {
     "data": {
      "text/plain": [
       "(60, 3)"
      ]
     },
     "execution_count": 23,
     "metadata": {},
     "output_type": "execute_result"
    }
   ],
   "source": [
    "x_test.shape"
   ]
  },
  {
   "cell_type": "code",
   "execution_count": 24,
   "id": "14802ac8",
   "metadata": {},
   "outputs": [
    {
     "data": {
      "text/html": [
       "<div>\n",
       "<style scoped>\n",
       "    .dataframe tbody tr th:only-of-type {\n",
       "        vertical-align: middle;\n",
       "    }\n",
       "\n",
       "    .dataframe tbody tr th {\n",
       "        vertical-align: top;\n",
       "    }\n",
       "\n",
       "    .dataframe thead th {\n",
       "        text-align: right;\n",
       "    }\n",
       "</style>\n",
       "<table border=\"1\" class=\"dataframe\">\n",
       "  <thead>\n",
       "    <tr style=\"text-align: right;\">\n",
       "      <th></th>\n",
       "      <th>TV</th>\n",
       "      <th>Radio</th>\n",
       "      <th>Newspaper</th>\n",
       "    </tr>\n",
       "  </thead>\n",
       "  <tbody>\n",
       "    <tr>\n",
       "      <th>0</th>\n",
       "      <td>230.1</td>\n",
       "      <td>37.8</td>\n",
       "      <td>69.2</td>\n",
       "    </tr>\n",
       "    <tr>\n",
       "      <th>1</th>\n",
       "      <td>44.5</td>\n",
       "      <td>39.3</td>\n",
       "      <td>45.1</td>\n",
       "    </tr>\n",
       "    <tr>\n",
       "      <th>2</th>\n",
       "      <td>17.2</td>\n",
       "      <td>45.9</td>\n",
       "      <td>69.3</td>\n",
       "    </tr>\n",
       "    <tr>\n",
       "      <th>3</th>\n",
       "      <td>151.5</td>\n",
       "      <td>41.3</td>\n",
       "      <td>58.5</td>\n",
       "    </tr>\n",
       "    <tr>\n",
       "      <th>4</th>\n",
       "      <td>180.8</td>\n",
       "      <td>10.8</td>\n",
       "      <td>58.4</td>\n",
       "    </tr>\n",
       "    <tr>\n",
       "      <th>...</th>\n",
       "      <td>...</td>\n",
       "      <td>...</td>\n",
       "      <td>...</td>\n",
       "    </tr>\n",
       "    <tr>\n",
       "      <th>195</th>\n",
       "      <td>38.2</td>\n",
       "      <td>3.7</td>\n",
       "      <td>13.8</td>\n",
       "    </tr>\n",
       "    <tr>\n",
       "      <th>196</th>\n",
       "      <td>94.2</td>\n",
       "      <td>4.9</td>\n",
       "      <td>8.1</td>\n",
       "    </tr>\n",
       "    <tr>\n",
       "      <th>197</th>\n",
       "      <td>177.0</td>\n",
       "      <td>9.3</td>\n",
       "      <td>6.4</td>\n",
       "    </tr>\n",
       "    <tr>\n",
       "      <th>198</th>\n",
       "      <td>283.6</td>\n",
       "      <td>42.0</td>\n",
       "      <td>66.2</td>\n",
       "    </tr>\n",
       "    <tr>\n",
       "      <th>199</th>\n",
       "      <td>232.1</td>\n",
       "      <td>8.6</td>\n",
       "      <td>8.7</td>\n",
       "    </tr>\n",
       "  </tbody>\n",
       "</table>\n",
       "<p>200 rows × 3 columns</p>\n",
       "</div>"
      ],
      "text/plain": [
       "        TV  Radio  Newspaper\n",
       "0    230.1   37.8       69.2\n",
       "1     44.5   39.3       45.1\n",
       "2     17.2   45.9       69.3\n",
       "3    151.5   41.3       58.5\n",
       "4    180.8   10.8       58.4\n",
       "..     ...    ...        ...\n",
       "195   38.2    3.7       13.8\n",
       "196   94.2    4.9        8.1\n",
       "197  177.0    9.3        6.4\n",
       "198  283.6   42.0       66.2\n",
       "199  232.1    8.6        8.7\n",
       "\n",
       "[200 rows x 3 columns]"
      ]
     },
     "execution_count": 24,
     "metadata": {},
     "output_type": "execute_result"
    }
   ],
   "source": [
    "# print x\n",
    "x"
   ]
  },
  {
   "cell_type": "code",
   "execution_count": 73,
   "id": "11109b18",
   "metadata": {},
   "outputs": [
    {
     "data": {
      "text/plain": [
       "0      22.1\n",
       "1      10.4\n",
       "2       9.3\n",
       "3      18.5\n",
       "4      12.9\n",
       "       ... \n",
       "195     7.6\n",
       "196     9.7\n",
       "197    12.8\n",
       "198    25.5\n",
       "199    13.4\n",
       "Name: Sales, Length: 200, dtype: float64"
      ]
     },
     "execution_count": 73,
     "metadata": {},
     "output_type": "execute_result"
    }
   ],
   "source": [
    "# print y\n",
    "y"
   ]
  },
  {
   "cell_type": "markdown",
   "id": "92d6aac5",
   "metadata": {},
   "source": [
    "### Model Building"
   ]
  },
  {
   "cell_type": "code",
   "execution_count": 25,
   "id": "22c8d121",
   "metadata": {},
   "outputs": [
    {
     "data": {
      "text/html": [
       "<style>#sk-container-id-2 {color: black;background-color: white;}#sk-container-id-2 pre{padding: 0;}#sk-container-id-2 div.sk-toggleable {background-color: white;}#sk-container-id-2 label.sk-toggleable__label {cursor: pointer;display: block;width: 100%;margin-bottom: 0;padding: 0.3em;box-sizing: border-box;text-align: center;}#sk-container-id-2 label.sk-toggleable__label-arrow:before {content: \"▸\";float: left;margin-right: 0.25em;color: #696969;}#sk-container-id-2 label.sk-toggleable__label-arrow:hover:before {color: black;}#sk-container-id-2 div.sk-estimator:hover label.sk-toggleable__label-arrow:before {color: black;}#sk-container-id-2 div.sk-toggleable__content {max-height: 0;max-width: 0;overflow: hidden;text-align: left;background-color: #f0f8ff;}#sk-container-id-2 div.sk-toggleable__content pre {margin: 0.2em;color: black;border-radius: 0.25em;background-color: #f0f8ff;}#sk-container-id-2 input.sk-toggleable__control:checked~div.sk-toggleable__content {max-height: 200px;max-width: 100%;overflow: auto;}#sk-container-id-2 input.sk-toggleable__control:checked~label.sk-toggleable__label-arrow:before {content: \"▾\";}#sk-container-id-2 div.sk-estimator input.sk-toggleable__control:checked~label.sk-toggleable__label {background-color: #d4ebff;}#sk-container-id-2 div.sk-label input.sk-toggleable__control:checked~label.sk-toggleable__label {background-color: #d4ebff;}#sk-container-id-2 input.sk-hidden--visually {border: 0;clip: rect(1px 1px 1px 1px);clip: rect(1px, 1px, 1px, 1px);height: 1px;margin: -1px;overflow: hidden;padding: 0;position: absolute;width: 1px;}#sk-container-id-2 div.sk-estimator {font-family: monospace;background-color: #f0f8ff;border: 1px dotted black;border-radius: 0.25em;box-sizing: border-box;margin-bottom: 0.5em;}#sk-container-id-2 div.sk-estimator:hover {background-color: #d4ebff;}#sk-container-id-2 div.sk-parallel-item::after {content: \"\";width: 100%;border-bottom: 1px solid gray;flex-grow: 1;}#sk-container-id-2 div.sk-label:hover label.sk-toggleable__label {background-color: #d4ebff;}#sk-container-id-2 div.sk-serial::before {content: \"\";position: absolute;border-left: 1px solid gray;box-sizing: border-box;top: 0;bottom: 0;left: 50%;z-index: 0;}#sk-container-id-2 div.sk-serial {display: flex;flex-direction: column;align-items: center;background-color: white;padding-right: 0.2em;padding-left: 0.2em;position: relative;}#sk-container-id-2 div.sk-item {position: relative;z-index: 1;}#sk-container-id-2 div.sk-parallel {display: flex;align-items: stretch;justify-content: center;background-color: white;position: relative;}#sk-container-id-2 div.sk-item::before, #sk-container-id-2 div.sk-parallel-item::before {content: \"\";position: absolute;border-left: 1px solid gray;box-sizing: border-box;top: 0;bottom: 0;left: 50%;z-index: -1;}#sk-container-id-2 div.sk-parallel-item {display: flex;flex-direction: column;z-index: 1;position: relative;background-color: white;}#sk-container-id-2 div.sk-parallel-item:first-child::after {align-self: flex-end;width: 50%;}#sk-container-id-2 div.sk-parallel-item:last-child::after {align-self: flex-start;width: 50%;}#sk-container-id-2 div.sk-parallel-item:only-child::after {width: 0;}#sk-container-id-2 div.sk-dashed-wrapped {border: 1px dashed gray;margin: 0 0.4em 0.5em 0.4em;box-sizing: border-box;padding-bottom: 0.4em;background-color: white;}#sk-container-id-2 div.sk-label label {font-family: monospace;font-weight: bold;display: inline-block;line-height: 1.2em;}#sk-container-id-2 div.sk-label-container {text-align: center;}#sk-container-id-2 div.sk-container {/* jupyter's `normalize.less` sets `[hidden] { display: none; }` but bootstrap.min.css set `[hidden] { display: none !important; }` so we also need the `!important` here to be able to override the default hidden behavior on the sphinx rendered scikit-learn.org. See: https://github.com/scikit-learn/scikit-learn/issues/21755 */display: inline-block !important;position: relative;}#sk-container-id-2 div.sk-text-repr-fallback {display: none;}</style><div id=\"sk-container-id-2\" class=\"sk-top-container\"><div class=\"sk-text-repr-fallback\"><pre>LinearRegression()</pre><b>In a Jupyter environment, please rerun this cell to show the HTML representation or trust the notebook. <br />On GitHub, the HTML representation is unable to render, please try loading this page with nbviewer.org.</b></div><div class=\"sk-container\" hidden><div class=\"sk-item\"><div class=\"sk-estimator sk-toggleable\"><input class=\"sk-toggleable__control sk-hidden--visually\" id=\"sk-estimator-id-2\" type=\"checkbox\" checked><label for=\"sk-estimator-id-2\" class=\"sk-toggleable__label sk-toggleable__label-arrow\">LinearRegression</label><div class=\"sk-toggleable__content\"><pre>LinearRegression()</pre></div></div></div></div></div>"
      ],
      "text/plain": [
       "LinearRegression()"
      ]
     },
     "execution_count": 25,
     "metadata": {},
     "output_type": "execute_result"
    }
   ],
   "source": [
    "# Import Linear Regression Model\n",
    "from sklearn.linear_model import LinearRegression\n",
    "\n",
    "# Initialize your model --> make your model ready\n",
    "model=LinearRegression()\n",
    "\n",
    "# Train model with x_train and y_train\n",
    "model.fit(x_train,y_train)"
   ]
  },
  {
   "cell_type": "code",
   "execution_count": 36,
   "id": "8435babb",
   "metadata": {},
   "outputs": [
    {
     "data": {
      "text/plain": [
       "array([17.09777441, 16.86148273, 21.7761552 , 24.53812602, 12.32008724,\n",
       "       20.9083371 , 10.09857022, 12.38326275, 12.01767713, 16.939182  ,\n",
       "       22.8039863 , 15.18438755,  8.45988902, 14.86958246, 18.5360064 ,\n",
       "       18.5391287 , 18.67614759, 14.5131948 ,  9.74192603, 20.57441729,\n",
       "       14.89243548, 17.70102466, 23.04193509,  7.718106  , 21.42075683,\n",
       "       19.62792915, 13.79733409, 11.63827129, 18.42655599, 12.19463761,\n",
       "       11.40777433,  9.96083851, 13.49436555, 15.18912412, 18.09830593,\n",
       "        6.92815403, 14.21050378, 14.27217178, 14.10451207, 10.77723418,\n",
       "       14.82936609, 11.96507878, 10.69651541, 10.40851022,  6.21159776,\n",
       "       16.82112487, 16.4659736 , 12.07626636, 10.75281419, 20.84690688,\n",
       "       15.09266208, 15.39499668, 13.27964587, 14.1081843 , 12.38574411,\n",
       "        9.03289588, 20.48246311,  9.3517132 ,  5.36311192,  8.24848891])"
      ]
     },
     "execution_count": 36,
     "metadata": {},
     "output_type": "execute_result"
    }
   ],
   "source": [
    "# Make predictions/ test model\n",
    "# Since we've three variables, our model is multilinear regression --> y = m1x1 + m2x2 + m3x3 + c\n",
    "y_pred=model.predict(x_test)\n",
    "y_pred # You can compare the predicted values against the y values"
   ]
  },
  {
   "cell_type": "code",
   "execution_count": 26,
   "id": "35021b79",
   "metadata": {},
   "outputs": [
    {
     "data": {
      "text/plain": [
       "11     17.4\n",
       "99     17.2\n",
       "128    24.7\n",
       "175    27.0\n",
       "1      10.4\n",
       "111    21.8\n",
       "90     11.2\n",
       "177    11.7\n",
       "88     12.9\n",
       "187    17.3\n",
       "61     24.2\n",
       "199    13.4\n",
       "191     9.9\n",
       "123    15.2\n",
       "184    17.6\n",
       "188    15.9\n",
       "33     17.4\n",
       "171    14.5\n",
       "138     9.6\n",
       "84     21.7\n",
       "81     12.3\n",
       "102    14.8\n",
       "147    25.4\n",
       "34      9.5\n",
       "47     23.2\n",
       "124    19.7\n",
       "112    14.1\n",
       "6      11.8\n",
       "14     19.0\n",
       "190    10.8\n",
       "80     11.8\n",
       "18     11.3\n",
       "167    12.2\n",
       "45     14.9\n",
       "153    19.0\n",
       "119     6.6\n",
       "100    11.7\n",
       "83     13.6\n",
       "181    12.2\n",
       "71     12.4\n",
       "26     15.0\n",
       "134    10.8\n",
       "180    10.5\n",
       "158     7.3\n",
       "189     6.7\n",
       "89     16.7\n",
       "48     14.8\n",
       "116    12.2\n",
       "12      9.2\n",
       "69     22.3\n",
       "110    13.4\n",
       "154    15.6\n",
       "16     12.5\n",
       "19     14.6\n",
       "2       9.3\n",
       "143    10.4\n",
       "185    22.6\n",
       "29     10.5\n",
       "155     3.2\n",
       "24      9.7\n",
       "Name: Sales, dtype: float64"
      ]
     },
     "execution_count": 26,
     "metadata": {},
     "output_type": "execute_result"
    }
   ],
   "source": [
    "# compare predictions with y_test values\n",
    "y_test"
   ]
  },
  {
   "cell_type": "code",
   "execution_count": 40,
   "id": "00878047",
   "metadata": {},
   "outputs": [
    {
     "data": {
      "text/plain": [
       "array([0.04533392, 0.17715767, 0.00553852])"
      ]
     },
     "execution_count": 40,
     "metadata": {},
     "output_type": "execute_result"
    }
   ],
   "source": [
    "# Slopes/coefficients of x\n",
    "model.coef_"
   ]
  },
  {
   "cell_type": "code",
   "execution_count": 41,
   "id": "42bc147e",
   "metadata": {},
   "outputs": [
    {
     "data": {
      "text/plain": [
       "3.09064436412511"
      ]
     },
     "execution_count": 41,
     "metadata": {},
     "output_type": "execute_result"
    }
   ],
   "source": [
    "# Intercept\n",
    "model.intercept_"
   ]
  },
  {
   "cell_type": "code",
   "execution_count": null,
   "id": "075b01d2",
   "metadata": {},
   "outputs": [],
   "source": [
    "# Evaluate model using different error functions"
   ]
  },
  {
   "cell_type": "code",
   "execution_count": null,
   "id": "b944aa8f",
   "metadata": {},
   "outputs": [],
   "source": [
    "# Some Tasks\n",
    "What will be the total sales if my investment on TV = 100, Radio = 50, Newspaper = 10\n",
    "What will be the total sales if my investment on TV = 10, Radio = 500, Newspaper = 10\n",
    "What will be the total sales if my investment on TV = 5, Radio = 10, Newspaper = 100\n",
    "What will be the total sales if my investment on TV = 1000, Radio = 300, Newspaper = 50"
   ]
  },
  {
   "cell_type": "code",
   "execution_count": 42,
   "id": "9c833af3",
   "metadata": {},
   "outputs": [
    {
     "data": {
      "text/html": [
       "<div>\n",
       "<style scoped>\n",
       "    .dataframe tbody tr th:only-of-type {\n",
       "        vertical-align: middle;\n",
       "    }\n",
       "\n",
       "    .dataframe tbody tr th {\n",
       "        vertical-align: top;\n",
       "    }\n",
       "\n",
       "    .dataframe thead th {\n",
       "        text-align: right;\n",
       "    }\n",
       "</style>\n",
       "<table border=\"1\" class=\"dataframe\">\n",
       "  <thead>\n",
       "    <tr style=\"text-align: right;\">\n",
       "      <th></th>\n",
       "      <th>TV</th>\n",
       "      <th>Radio</th>\n",
       "      <th>Newspaper</th>\n",
       "    </tr>\n",
       "  </thead>\n",
       "  <tbody>\n",
       "    <tr>\n",
       "      <th>0</th>\n",
       "      <td>230.1</td>\n",
       "      <td>37.8</td>\n",
       "      <td>69.2</td>\n",
       "    </tr>\n",
       "    <tr>\n",
       "      <th>1</th>\n",
       "      <td>44.5</td>\n",
       "      <td>39.3</td>\n",
       "      <td>45.1</td>\n",
       "    </tr>\n",
       "    <tr>\n",
       "      <th>2</th>\n",
       "      <td>17.2</td>\n",
       "      <td>45.9</td>\n",
       "      <td>69.3</td>\n",
       "    </tr>\n",
       "    <tr>\n",
       "      <th>3</th>\n",
       "      <td>151.5</td>\n",
       "      <td>41.3</td>\n",
       "      <td>58.5</td>\n",
       "    </tr>\n",
       "    <tr>\n",
       "      <th>4</th>\n",
       "      <td>180.8</td>\n",
       "      <td>10.8</td>\n",
       "      <td>58.4</td>\n",
       "    </tr>\n",
       "    <tr>\n",
       "      <th>...</th>\n",
       "      <td>...</td>\n",
       "      <td>...</td>\n",
       "      <td>...</td>\n",
       "    </tr>\n",
       "    <tr>\n",
       "      <th>195</th>\n",
       "      <td>38.2</td>\n",
       "      <td>3.7</td>\n",
       "      <td>13.8</td>\n",
       "    </tr>\n",
       "    <tr>\n",
       "      <th>196</th>\n",
       "      <td>94.2</td>\n",
       "      <td>4.9</td>\n",
       "      <td>8.1</td>\n",
       "    </tr>\n",
       "    <tr>\n",
       "      <th>197</th>\n",
       "      <td>177.0</td>\n",
       "      <td>9.3</td>\n",
       "      <td>6.4</td>\n",
       "    </tr>\n",
       "    <tr>\n",
       "      <th>198</th>\n",
       "      <td>283.6</td>\n",
       "      <td>42.0</td>\n",
       "      <td>66.2</td>\n",
       "    </tr>\n",
       "    <tr>\n",
       "      <th>199</th>\n",
       "      <td>232.1</td>\n",
       "      <td>8.6</td>\n",
       "      <td>8.7</td>\n",
       "    </tr>\n",
       "  </tbody>\n",
       "</table>\n",
       "<p>200 rows × 3 columns</p>\n",
       "</div>"
      ],
      "text/plain": [
       "        TV  Radio  Newspaper\n",
       "0    230.1   37.8       69.2\n",
       "1     44.5   39.3       45.1\n",
       "2     17.2   45.9       69.3\n",
       "3    151.5   41.3       58.5\n",
       "4    180.8   10.8       58.4\n",
       "..     ...    ...        ...\n",
       "195   38.2    3.7       13.8\n",
       "196   94.2    4.9        8.1\n",
       "197  177.0    9.3        6.4\n",
       "198  283.6   42.0       66.2\n",
       "199  232.1    8.6        8.7\n",
       "\n",
       "[200 rows x 3 columns]"
      ]
     },
     "execution_count": 42,
     "metadata": {},
     "output_type": "execute_result"
    }
   ],
   "source": [
    "# To get the order of variables, print x\n",
    "x"
   ]
  },
  {
   "cell_type": "code",
   "execution_count": 43,
   "id": "bd07fd80",
   "metadata": {},
   "outputs": [
    {
     "data": {
      "text/plain": [
       "array([16.5373046])"
      ]
     },
     "execution_count": 43,
     "metadata": {},
     "output_type": "execute_result"
    }
   ],
   "source": [
    "model.predict([[100,50,10]])"
   ]
  },
  {
   "cell_type": "code",
   "execution_count": 44,
   "id": "fddbc7f1",
   "metadata": {},
   "outputs": [
    {
     "data": {
      "text/plain": [
       "array([92.17820211])"
      ]
     },
     "execution_count": 44,
     "metadata": {},
     "output_type": "execute_result"
    }
   ],
   "source": [
    "model.predict([[10,500,10]])"
   ]
  },
  {
   "cell_type": "code",
   "execution_count": 45,
   "id": "ac810297",
   "metadata": {},
   "outputs": [
    {
     "data": {
      "text/plain": [
       "array([5.64274266])"
      ]
     },
     "execution_count": 45,
     "metadata": {},
     "output_type": "execute_result"
    }
   ],
   "source": [
    "model.predict([[5,10,100]])"
   ]
  },
  {
   "cell_type": "code",
   "execution_count": 46,
   "id": "3a320d21",
   "metadata": {},
   "outputs": [
    {
     "data": {
      "text/plain": [
       "array([101.84878734])"
      ]
     },
     "execution_count": 46,
     "metadata": {},
     "output_type": "execute_result"
    }
   ],
   "source": [
    "model.predict([[1000,300,50]])"
   ]
  },
  {
   "cell_type": "markdown",
   "id": "8fd0cb7d",
   "metadata": {},
   "source": [
    "## Evaluate Model"
   ]
  },
  {
   "cell_type": "code",
   "execution_count": null,
   "id": "049a2623",
   "metadata": {},
   "outputs": [],
   "source": [
    "# Loss functions to know the difference btwn actual and predicted values.\n",
    "# Difference Error/Loss functions in Regression algorithm are\n",
    "* MSE(Mean Squared Error)\n",
    "* MAE(Mean Absolute Error)\n",
    "* RMSE(Root Mean Squared Error)"
   ]
  },
  {
   "cell_type": "code",
   "execution_count": 34,
   "id": "b076732e",
   "metadata": {},
   "outputs": [],
   "source": [
    "from sklearn.metrics import mean_squared_error,mean_absolute_error,r2_score"
   ]
  },
  {
   "cell_type": "code",
   "execution_count": 47,
   "id": "f993b110",
   "metadata": {},
   "outputs": [
    {
     "data": {
      "text/plain": [
       "2.2237746679115578"
      ]
     },
     "execution_count": 47,
     "metadata": {},
     "output_type": "execute_result"
    }
   ],
   "source": [
    "# MSE\n",
    "MSE=mean_squared_error(y_test,y_pred)\n",
    "MSE"
   ]
  },
  {
   "cell_type": "code",
   "execution_count": 48,
   "id": "100a2fe8",
   "metadata": {},
   "outputs": [
    {
     "data": {
      "text/plain": [
       "1.2111525124980485"
      ]
     },
     "execution_count": 48,
     "metadata": {},
     "output_type": "execute_result"
    }
   ],
   "source": [
    "# MAE\n",
    "MAE=mean_absolute_error(y_test,y_pred)\n",
    "MAE"
   ]
  },
  {
   "cell_type": "code",
   "execution_count": 51,
   "id": "1d7a3baa",
   "metadata": {},
   "outputs": [
    {
     "data": {
      "text/plain": [
       "1.4912326002041256"
      ]
     },
     "execution_count": 51,
     "metadata": {},
     "output_type": "execute_result"
    }
   ],
   "source": [
    "# RMSE\n",
    "# if RMSE is near to 1, we say it's good model\n",
    "# if RMSE is near to 0, we say bad model\n",
    "RMSE=np.sqrt(MSE)\n",
    "RMSE"
   ]
  },
  {
   "cell_type": "code",
   "execution_count": 52,
   "id": "b8152143",
   "metadata": {},
   "outputs": [
    {
     "data": {
      "text/plain": [
       "0.9127220729596172"
      ]
     },
     "execution_count": 52,
     "metadata": {},
     "output_type": "execute_result"
    }
   ],
   "source": [
    "# r2_score\n",
    "r2_score(y_test,y_pred)"
   ]
  },
  {
   "cell_type": "code",
   "execution_count": 53,
   "id": "7e9eee2b",
   "metadata": {},
   "outputs": [],
   "source": [
    "# 91% better model to make predictions\n",
    "# Model has learnt 91% of the information"
   ]
  },
  {
   "cell_type": "markdown",
   "id": "b7bc2047",
   "metadata": {},
   "source": [
    "### Adjusted R2 score\n",
    "* If you dont drop columns that are less relevant, the R2 value increases drastically, which will give wrong predictions\n",
    "* Adjusted R2 should be less than R2 to make sure the model doesnt give wrong oredictions\\\n",
    "\n",
    "#### Disadvantages of R2\n",
    "* R2 increases as the number of independent variables increases which has very less relationship with target variables\n",
    "* To overcome this, we use adjusted R2\n",
    "\n",
    "Adjusted R2 will measure the performance of the model by ignoring columns which has very less relationship with target.\n",
    "\n",
    "Adjusted R2 = 1 - (1-R2)*(N-1)/N-P-1: Where N --> No. of observations & P --> No. of independent variables"
   ]
  },
  {
   "cell_type": "code",
   "execution_count": 1,
   "id": "a1d5cb92",
   "metadata": {},
   "outputs": [
    {
     "data": {
      "text/plain": [
       "0.9080464697253109"
      ]
     },
     "execution_count": 1,
     "metadata": {},
     "output_type": "execute_result"
    }
   ],
   "source": [
    "adj_r2=1-(1-0.9127220729596172)*(60-1)/(60-3-1)\n",
    "adj_r2"
   ]
  },
  {
   "cell_type": "code",
   "execution_count": 2,
   "id": "bd58bbea",
   "metadata": {},
   "outputs": [],
   "source": [
    "# Adjusted R2 score (adj_r2) < R2 (r2_score), therefore model doesn't give wrong values"
   ]
  },
  {
   "cell_type": "code",
   "execution_count": 18,
   "id": "60027313",
   "metadata": {},
   "outputs": [
    {
     "data": {
      "text/plain": [
       "(60,)"
      ]
     },
     "execution_count": 18,
     "metadata": {},
     "output_type": "execute_result"
    }
   ],
   "source": [
    "# y_test.shape gives the value of N\n",
    "y_test.shape"
   ]
  },
  {
   "cell_type": "markdown",
   "id": "eb3246d8",
   "metadata": {},
   "source": [
    "## Conclusion\n",
    "* Average sales made by the company is $14.02m\n",
    "* Average amount spent on TV is more compared to Radio and Newspaper\n",
    "* Maximum amount spent on TV advertising is more compared to Radio and Newspaper\n",
    "\n",
    "\n",
    "#### Based on the problem:\n",
    "\n",
    "* Sales is target\n",
    "* TV, Radio and Newspaper are input variables\n",
    "* Linear Regression is the suitable ML method to predict Sales\n",
    "\n",
    "\n",
    "* This data basically tells us about the total sales made by the company by investing certain amount on TV, Radio and Newspaper Advertising.\n",
    "* TV is the best field for advertising the product so that the company can yield more sales.\n",
    "* Investing in Radio will also yield some good sales but investing in Newspaper is not really a good idea.\n",
    "* There is no relationship btwn Newspaper and Sales\n",
    "* Investing more or less on Newspaper advertising will yield very less Sales\n",
    "\n",
    "#### Model Evaluation:\n",
    "\n",
    "* Based on r2_Score, the model performs 91 percent better to make predictions\n",
    "* The model has learnt 91 percent of the information\n",
    "* Adjusted R2 score (adj_r2) < R2 (r2_score), therefore model doesn't give wrong values"
   ]
  },
  {
   "cell_type": "markdown",
   "id": "2b6bfece",
   "metadata": {},
   "source": [
    "## 📬Connect with Me📬\n",
    "\n",
    "[Twitter](https://twitter.com/Eng_Normie)\n",
    "\n",
    "[Linkedin](https://www.linkedin.com/in/normangwangwava/)\n",
    "\n",
    "[Blog](https://engnormie.wordpress.com/)\n",
    "\n",
    "[Tableau](https://tableau.com/engnormie)\n",
    "\n",
    "[Novpro](https://novpro.com/engnormie)\n",
    "\n",
    "[Medium](https://medium.com/engnormie)"
   ]
  }
 ],
 "metadata": {
  "kernelspec": {
   "display_name": "Python 3 (ipykernel)",
   "language": "python",
   "name": "python3"
  },
  "language_info": {
   "codemirror_mode": {
    "name": "ipython",
    "version": 3
   },
   "file_extension": ".py",
   "mimetype": "text/x-python",
   "name": "python",
   "nbconvert_exporter": "python",
   "pygments_lexer": "ipython3",
   "version": "3.10.5"
  }
 },
 "nbformat": 4,
 "nbformat_minor": 5
}
